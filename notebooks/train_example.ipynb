{
 "cells": [
  {
   "cell_type": "markdown",
   "metadata": {},
   "source": [
    "# Train a Lemmatizer using lemma"
   ]
  },
  {
   "cell_type": "code",
   "execution_count": null,
   "metadata": {},
   "outputs": [],
   "source": [
    "import logging\n",
    "import random\n",
    "import pandas as pd\n",
    "from lemma import Lemmatizer, SimpleLemmatizer"
   ]
  },
  {
   "cell_type": "code",
   "execution_count": null,
   "metadata": {},
   "outputs": [],
   "source": [
    "logging.basicConfig(level=logging.DEBUG, format=\"%(asctime)s : %(levelname)s : %(message)s\")"
   ]
  },
  {
   "cell_type": "code",
   "execution_count": null,
   "metadata": {},
   "outputs": [],
   "source": [
    "def load_data(filename):\n",
    "    df = pd.read_csv(csv_file, usecols=[0, 1, 2], keep_default_na=False)\n",
    "    X = [(word_class, full_form) for _, (word_class, full_form, _) in df.iterrows()]\n",
    "    y = [lemma for _, (_word_class, _full_form, lemma,) in df.iterrows()]\n",
    "    return X, y\n",
    "\n",
    "def split_data(X, y):\n",
    "    mask = [False] * len(y)\n",
    "    test_indices = random.sample(range(len(y)), len(y) // 500)\n",
    "    for index in test_indices:\n",
    "        mask[index] = True\n",
    "\n",
    "    X_train = []\n",
    "    y_train = []\n",
    "    X_test = []\n",
    "    y_test = []\n",
    "    for index, test in enumerate(mask):\n",
    "        if test:\n",
    "            X_test += [X[index]]\n",
    "            y_test += [y[index]]\n",
    "        else:\n",
    "            X_train += [X[index]]\n",
    "            y_train += [y[index]]\n",
    "    \n",
    "    return X_train, y_train, X_test, y_test\n",
    "\n",
    "def print_examples(lemmatizer):\n",
    "    examples = [[\"verb\", \"drak\"], [\"noun\", \"kattene\"], [\"noun\", \"ukrudtet\"], [\"noun\", \"slaraffenlandet\"],\n",
    "                [\"noun\", \"alen\"], [\"noun\", \"skaber\"], [\"noun\", \"venskaber\"], [\"noun\", \"tilbageførelser\"],\n",
    "                [\"noun\", \"aftenbønnerne\"], [\"noun\", \"altankassepassere\"]]\n",
    "    for word_class, full_form in examples:\n",
    "        lemma = lemmatizer.lemmatize(word_class, full_form)\n",
    "        print(\"(%s, %s) -> %s\" % (word_class, full_form, lemma))\n",
    "\n",
    "def calculate_accuracy(lemmatizer, X, y):\n",
    "    total = 0\n",
    "    correct = 0\n",
    "    ambiguous = 0\n",
    "\n",
    "    for index in range(len(y)):\n",
    "        word_class, full_form = X[index]\n",
    "        target = y[index]\n",
    "        predicted = lemmatizer.lemmatize(word_class, full_form)\n",
    "        total += 1\n",
    "        if len(predicted) > 1:\n",
    "            ambiguous += 1\n",
    "        elif predicted[0] == target:\n",
    "            correct += 1\n",
    "        else:            \n",
    "            #print(\"(%s, %s) -> %s (expected: %s)\" % (word_class, full_form, predicted, target))\n",
    "            pass\n",
    "\n",
    "    print(\"correct:\", correct)\n",
    "    print(\"ambiguous:\", ambiguous)\n",
    "    print(\"total:\", total)\n",
    "    print(\"accuracy:\", correct/total)\n",
    "    print(\"ambiguous%:\", ambiguous/total)\n",
    "    print(\"ambiguous + accuracy:\", (ambiguous+correct)/total)"
   ]
  },
  {
   "cell_type": "markdown",
   "metadata": {},
   "source": [
    "## Load Data"
   ]
  },
  {
   "cell_type": "code",
   "execution_count": null,
   "metadata": {},
   "outputs": [],
   "source": [
    "csv_file = \"./temp/lemma_data.csv\"\n",
    "X, y = load_data(csv_file)"
   ]
  },
  {
   "cell_type": "markdown",
   "metadata": {},
   "source": [
    "## Split Data"
   ]
  },
  {
   "cell_type": "code",
   "execution_count": null,
   "metadata": {},
   "outputs": [],
   "source": [
    "random.seed(0)\n",
    "X_train, y_train, X_test, y_test = split_data(X, y)"
   ]
  },
  {
   "cell_type": "code",
   "execution_count": null,
   "metadata": {},
   "outputs": [],
   "source": [
    "print(len(X))\n",
    "print(len(X_test))\n",
    "print(len(X_train))"
   ]
  },
  {
   "cell_type": "markdown",
   "metadata": {},
   "source": [
    "## Train CST-like Lemmatizer"
   ]
  },
  {
   "cell_type": "code",
   "execution_count": null,
   "metadata": {
    "scrolled": false
   },
   "outputs": [],
   "source": [
    "lemmatizer = Lemmatizer()\n",
    "lemmatizer.fit(X_train, y_train)"
   ]
  },
  {
   "cell_type": "code",
   "execution_count": null,
   "metadata": {},
   "outputs": [],
   "source": [
    "print_examples(lemmatizer)"
   ]
  },
  {
   "cell_type": "code",
   "execution_count": null,
   "metadata": {},
   "outputs": [],
   "source": [
    "calculate_accuracy(lemmatizer, X_train, y_train)"
   ]
  },
  {
   "cell_type": "code",
   "execution_count": null,
   "metadata": {},
   "outputs": [],
   "source": [
    "calculate_accuracy(lemmatizer, X_test, y_test)"
   ]
  },
  {
   "cell_type": "markdown",
   "metadata": {},
   "source": [
    "## Explore Ambiguities"
   ]
  },
  {
   "cell_type": "code",
   "execution_count": null,
   "metadata": {},
   "outputs": [],
   "source": [
    "len([(k,v) for k, v in lemmatizer.rules['noun'].items() if len(v) > 1])"
   ]
  },
  {
   "cell_type": "code",
   "execution_count": null,
   "metadata": {},
   "outputs": [],
   "source": [
    "[(k,v) for k, v in lemmatizer.rules['noun'].items() if len(v) > 1][0]"
   ]
  }
 ],
 "metadata": {
  "kernelspec": {
   "display_name": "Python 3",
   "language": "python",
   "name": "python3"
  },
  "language_info": {
   "codemirror_mode": {
    "name": "ipython",
    "version": 3
   },
   "file_extension": ".py",
   "mimetype": "text/x-python",
   "name": "python",
   "nbconvert_exporter": "python",
   "pygments_lexer": "ipython3",
   "version": "3.6.2"
  }
 },
 "nbformat": 4,
 "nbformat_minor": 2
}
