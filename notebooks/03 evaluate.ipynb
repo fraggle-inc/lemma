{
 "cells": [
  {
   "cell_type": "markdown",
   "metadata": {},
   "source": [
    "# Evaluate"
   ]
  },
  {
   "cell_type": "code",
   "execution_count": 1,
   "metadata": {},
   "outputs": [],
   "source": [
    "import logging\n",
    "import regex\n",
    "import lemma\n",
    "logging.basicConfig(format='%(levelname)s : %(message)s', level=logging.DEBUG)"
   ]
  },
  {
   "cell_type": "code",
   "execution_count": 2,
   "metadata": {},
   "outputs": [
    {
     "name": "stdout",
     "output_type": "stream",
     "text": [
      "* correct: 70590\n",
      "* incorrect: 297\n",
      "* ambiguous: 583\n",
      "* 0.9876871414579543\n",
      "* 0.9958444102420596\n"
     ]
    }
   ],
   "source": [
    "def _parse_ud_line(line):\n",
    "    return line.split(\"\\t\")[1:4]\n",
    "\n",
    "lemmatizer = lemma.load()\n",
    "UD_TRAIN_FILE = \"./data/UD_Danish/da-ud-train.conllu\"\n",
    "\n",
    "correct = 0\n",
    "incorrect = 0\n",
    "ambiguous = 0\n",
    "mistakes = {}\n",
    "pos_prev = \"\"\n",
    "for line in open(UD_TRAIN_FILE).readlines():\n",
    "    if line.startswith(\"#\"):\n",
    "        continue\n",
    "    if line.strip() == \"\":\n",
    "        pos_prev = \"\"\n",
    "        continue\n",
    "\n",
    "    result = _parse_ud_line(line)\n",
    "    orth, lemma_expected, pos = result\n",
    "    if regex.search(\"[0-9\\.'/\\\"é_-]\", orth + lemma_expected):\n",
    "        continue\n",
    "    if pos == \"PRON\" and orth.lower() == \"det\" and lemma_expected.lower() == \"det\":\n",
    "        # UD has lemma(\"PRON\", \"det\") == \"det\" while DSN has lemma(\"PRON\", \"det\") == \"den\n",
    "        # We ignore these.\n",
    "        continue\n",
    "        \n",
    "    lemmas_actual = lemmatizer.lemmatize(pos, orth.lower(), pos_previous=pos_prev)\n",
    "    \n",
    "    lemma_actual = lemmas_actual[0]\n",
    "    if len(lemmas_actual) > 1:\n",
    "        ambiguous += 1\n",
    "    elif lemma_actual.lower() == lemma_expected.lower():\n",
    "        correct += 1\n",
    "    else:\n",
    "        mistakes[(pos, orth, lemma_expected, lemma_actual)] = mistakes.get((pos, orth, lemma_expected, lemma_actual), 0) + 1\n",
    "        incorrect += 1\n",
    "    pos_prev = pos\n",
    "\n",
    "print(\"* correct:\", correct)\n",
    "print(\"* incorrect:\", incorrect)\n",
    "print(\"* ambiguous:\", ambiguous)\n",
    "print(\"*\", correct/(incorrect+ambiguous+correct))\n",
    "print(\"*\", (correct+ambiguous)/(incorrect+ambiguous+correct))"
   ]
  },
  {
   "cell_type": "code",
   "execution_count": 3,
   "metadata": {},
   "outputs": [
    {
     "data": {
      "text/plain": [
       "[(('NOUN', 'aftes', 'aften', 'aftes'), 5),\n",
       " (('ADV', 'allerhelst', 'helst', 'allerhelst'), 1),\n",
       " (('ADJ', 'allerstørste', 'stor', 'allerstørst'), 1),\n",
       " (('VERB', 'Bor', 'bo', 'bor'), 2),\n",
       " (('VERB', 'bor', 'bo', 'bor'), 1),\n",
       " (('VERB', 'Bortset', 'bortset', 'bortse'), 1),\n",
       " (('VERB', 'bortset', 'bortset', 'bortse'), 3),\n",
       " (('PRON', 'De', 'de', 'den'), 1),\n",
       " (('PRON', 'Deres', 'Deres', 'de'), 1),\n",
       " (('PRON', 'deres', 'deres', 'de'), 1),\n",
       " (('NOUN', 'drikkevarer', 'drikkevarer', 'drikkevare'), 2),\n",
       " (('NOUN', 'dyrenes', 'dyrenes', 'dyr'), 1),\n",
       " (('ADJ', 'Flere', 'mange', 'flere'), 7),\n",
       " (('ADJ', 'flere', 'mange', 'flere'), 64),\n",
       " (('ADJ', 'flest', 'mange', 'flest'), 1),\n",
       " (('ADJ', 'fleste', 'mange', 'flest'), 30),\n",
       " (('NOUN', 'forvejen', 'forvej', 'forvejen'), 4),\n",
       " (('VERB', 'følges', 'følges', 'følge'), 1),\n",
       " (('NOUN', 'g', 'gram', 'g'), 8),\n",
       " (('VERB', 'gør', 'gøre', 'gø'), 4),\n",
       " (('VERB', 'gør', 'gøre', 'gør'), 3),\n",
       " (('PRON', 'hans', 'hans', 'han'), 2),\n",
       " (('PRON', 'hendes', 'hendes', 'hun'), 1),\n",
       " (('NOUN', 'hænde', 'hånd', 'hænde'), 1),\n",
       " (('NOUN', 'høns', 'høns', 'høne'), 1),\n",
       " (('ADJ', 'lige', 'lig', 'lige'), 1),\n",
       " (('NOUN', 'lyden', 'lyd', 'lyde'), 1),\n",
       " (('VERB', 'lyder', 'lyde', 'lyder'), 1),\n",
       " (('ADV', 'længere', 'længere', 'længe'), 1),\n",
       " (('NOUN', 'm', 'meter', 'm'), 1),\n",
       " (('NOUN', 'markedskræfterne', 'markedskraft', 'markedskræfter'), 1),\n",
       " (('ADJ', 'megen', 'meget', 'megen'), 5),\n",
       " (('ADJ', 'Meget', 'meget', 'megen'), 1),\n",
       " (('ADJ', 'meget', 'meget', 'megen'), 34),\n",
       " (('ADJ', 'Mere', 'meget', 'mere'), 3),\n",
       " (('ADJ', 'mere', 'meget', 'mere'), 40),\n",
       " (('ADJ', 'mest', 'meget', 'mest'), 3),\n",
       " (('ADJ', 'meste', 'meget', 'mest'), 3),\n",
       " (('PRON', 'min', 'min', 'jeg'), 1),\n",
       " (('NOUN', 'morges', 'morgen', 'morges'), 1),\n",
       " (('NOUN', 'mormoderen', 'mormoder', 'mormor'), 2),\n",
       " (('NOUN', 'MORMØDRE', 'mormoder', 'mormor'), 1),\n",
       " (('NOUN', 'mormødre', 'mormoder', 'mormor'), 1),\n",
       " (('VERB', 'mødtes', 'mødes', 'mødtes'), 1),\n",
       " (('NOUN', 'narkotika', 'narkotika', 'narkotikum'), 1),\n",
       " (('ADJ', 'overdreven', 'overdrevet', 'overdreven'), 1),\n",
       " (('NOUN', 'pusten', 'pust', 'pusten'), 2),\n",
       " (('NOUN', 'rette', 'ret', 'rette'), 1),\n",
       " (('NOUN', 'ros', 'ros', 'ro'), 1),\n",
       " (('VERB', 'sir', 'sige', 'si'), 1),\n",
       " (('VERB', 'skal', 'skulle', 'skal'), 1),\n",
       " (('VERB', 'skyldes', 'skyldes', 'skyldese'), 3),\n",
       " (('VERB', 'slås', 'slå', 'slås'), 1),\n",
       " (('VERB', 'Spar', 'spare', 'spar'), 1),\n",
       " (('VERB', 'steg', 'stige', 'steg'), 1),\n",
       " (('NOUN', 'storebroderen', 'storebroder', 'storebror'), 1),\n",
       " (('NOUN', 'strabadser', 'strabads', 'strabadser'), 1),\n",
       " (('VERB', 'Synes', 'synes', 'synese'), 1),\n",
       " (('VERB', 'Så', 'se', 'så'), 1),\n",
       " (('VERB', 'så', 'se', 'så'), 1),\n",
       " (('NOUN', 'timer', 'time', 'tim'), 1),\n",
       " (('NOUN', 'timer', 'time', 'timer'), 2),\n",
       " (('NOUN', 'timers', 'time', 'tim'), 1),\n",
       " (('ADJ', 'tredjesidste', 'tredjesidste', 'tredjesidst'), 1),\n",
       " (('ADJ', 'unavngiven', 'unavngivet', 'unavngiven'), 1),\n",
       " (('ADJ', 'uskreven', 'uskrevet', 'uskreven'), 1),\n",
       " (('ADJ', 'utilpasse', 'utilpasse', 'utilpas'), 1),\n",
       " (('VERB', 'var', 'være', 'var'), 5),\n",
       " (('NOUN', 'Vinden', 'vind', 'vinden'), 1),\n",
       " (('VERB', 'viser', 'vise', 'viser'), 1),\n",
       " (('PRON', 'vore', 'vores', 'vi'), 1),\n",
       " (('ADJ', 'værre', 'slem', 'værre'), 3),\n",
       " (('ADJ', 'Værst', 'slem', 'værst'), 1),\n",
       " (('ADJ', 'værst', 'slem', 'værst'), 1),\n",
       " (('ADJ', 'værste', 'slem', 'værst'), 3),\n",
       " (('ADJ', 'økonomiske', 'økonomiske', 'økonomisk'), 1),\n",
       " (('ADJ', 'øverste', 'øvre', 'øverst'), 4)]"
      ]
     },
     "execution_count": 3,
     "metadata": {},
     "output_type": "execute_result"
    }
   ],
   "source": [
    "sorted(mistakes.items(), key=lambda x: (x[0][1].lower(), x))"
   ]
  }
 ],
 "metadata": {
  "kernelspec": {
   "display_name": "Python 3",
   "language": "python",
   "name": "python3"
  },
  "language_info": {
   "codemirror_mode": {
    "name": "ipython",
    "version": 3
   },
   "file_extension": ".py",
   "mimetype": "text/x-python",
   "name": "python",
   "nbconvert_exporter": "python",
   "pygments_lexer": "ipython3",
   "version": "3.6.2"
  }
 },
 "nbformat": 4,
 "nbformat_minor": 2
}
